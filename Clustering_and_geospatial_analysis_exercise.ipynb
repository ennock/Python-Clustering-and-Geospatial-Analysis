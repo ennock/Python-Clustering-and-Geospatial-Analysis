{
 "cells": [
  {
   "cell_type": "markdown",
   "id": "cd88ea27",
   "metadata": {},
   "source": [
    "<div align=\"center\" style=\" font-size: 80%; text-align: center; margin: 0 auto\">\n",
    "<img src=\"https://raw.githubusercontent.com/Explore-AI/Pictures/master/Python-Notebook-Banners/Exercise.png\"  style=\"display: block; margin-left: auto; margin-right: auto;\";/>\n",
    "</div>"
   ]
  },
  {
   "cell_type": "markdown",
   "id": "f662d169",
   "metadata": {},
   "source": [
    "# Exercise: Clustering and geospatial analysis\n",
    "© ExploreAI Academy"
   ]
  },
  {
   "cell_type": "markdown",
   "id": "26af890c",
   "metadata": {},
   "source": [
    "In this train, we'll use geopandas to plot geospatial data and create multidimensional plots by adjusting size and colour."
   ]
  },
  {
   "cell_type": "markdown",
   "id": "2d230d14",
   "metadata": {
    "tags": []
   },
   "source": [
    "## Learning objectives\n",
    "\n",
    "By the end of this train, you should be able to;\n",
    "- Create multidimensional plots by adjusting size and colour;\n",
    "- Use geopandas to plot geospatial data."
   ]
  },
  {
   "cell_type": "markdown",
   "id": "de45a481",
   "metadata": {},
   "source": [
    "## Exercises"
   ]
  },
  {
   "cell_type": "markdown",
   "id": "5a0b7683",
   "metadata": {
    "tags": []
   },
   "source": [
    "### Exercise 1: Basic geospatial plotting\n",
    "\n",
    "Plot the world map using `geopandas`, colouring the countries based on their GDP per capita.\n",
    "\n",
    "**Hint**: Use the 'plot' method with the 'column' parameter set to 'gdp_md_est'\n"
   ]
  },
  {
   "cell_type": "code",
   "execution_count": null,
   "id": "c2ee76ec",
   "metadata": {},
   "outputs": [],
   "source": [
    "import geopandas as gpd\n",
    "import matplotlib.pyplot as plt\n",
    "\n",
    "# Load example geospatial dataset\n",
    "world = gpd.read_file('/vsicurl/https://github.com/Explore-AI/Public-Data/raw/master/naturalearth_lowres/ne_110m_admin_0_countries.shp')\n",
    "\n",
    "# insert code here"
   ]
  },
  {
   "cell_type": "markdown",
   "id": "dc9b7dc6",
   "metadata": {},
   "source": [
    "### Exercise 2: Adjusting size and colour in geospatial plots\n",
    "\n",
    "Create a plot where the size of each country is determined by its population and the colour is determined by its GDP per capita.\n",
    "\n",
    "**Hint**: \n",
    "1. Use the geometries of countries from the `geopandas` dataframe for the map.\n",
    "2. Overlay a scatter plot to adjust the size of the countries based on their population.\n"
   ]
  },
  {
   "cell_type": "code",
   "execution_count": null,
   "id": "ae48fab0",
   "metadata": {},
   "outputs": [],
   "source": [
    "import geopandas as gpd\n",
    "import matplotlib.pyplot as plt\n",
    "\n",
    "# Load example geospatial dataset\n",
    "world = gpd.read_file('/vsicurl/https://github.com/Explore-AI/Public-Data/raw/master/naturalearth_lowres/ne_110m_admin_0_countries.shp')\n",
    "\n",
    "# insert your code here"
   ]
  },
  {
   "cell_type": "markdown",
   "id": "c5bbb09b",
   "metadata": {},
   "source": [
    "### Exercise 3: Geospatial clustering analysis\n",
    "\n",
    "Use K-means clustering to group countries based on their GDP and population, then plot the clusters on the map with different colours.\n",
    "\n",
    "**Hint**: Use `KMeans` from `sklearn.cluster` and the `plot` method from geopandas"
   ]
  },
  {
   "cell_type": "code",
   "execution_count": null,
   "id": "6247fff1",
   "metadata": {},
   "outputs": [],
   "source": [
    "import geopandas as gpd\n",
    "import matplotlib.pyplot as plt\n",
    "from sklearn.cluster import KMeans\n",
    "\n",
    "# Load example geospatial dataset\n",
    "world = gpd.read_file('/vsicurl/https://github.com/Explore-AI/Public-Data/raw/master/naturalearth_lowres/ne_110m_admin_0_countries.shp')\n",
    "\n",
    "# Prepare data for clustering\n",
    "data = world[['GDP_MD', 'POP_EST']].dropna()\n",
    "\n",
    "\n",
    "# insert code here"
   ]
  },
  {
   "cell_type": "markdown",
   "id": "5becf4c7",
   "metadata": {},
   "source": [
    "### Exercise 4: Advanced multidimensional geospatial plot\n",
    "\n",
    "Create a multidimensional plot with countries sized by their population, coloured by their GDP per capita, and apply a different marker for each continent.\n",
    "\n",
    "**Hint**: Use 'plot' method with various parameters and consider using 'continent' for markers"
   ]
  },
  {
   "cell_type": "code",
   "execution_count": null,
   "id": "a1ff3464",
   "metadata": {},
   "outputs": [],
   "source": [
    "import geopandas as gpd\n",
    "import matplotlib.pyplot as plt\n",
    "\n",
    "# Load example geospatial dataset\n",
    "world = gpd.read_file('/vsicurl/https://github.com/Explore-AI/Public-Data/raw/master/naturalearth_lowres/ne_110m_admin_0_countries.shp')\n",
    "\n",
    "# insert code here"
   ]
  },
  {
   "cell_type": "markdown",
   "id": "555dea0d",
   "metadata": {},
   "source": [
    "## Solutions"
   ]
  },
  {
   "cell_type": "markdown",
   "id": "9ff8f391",
   "metadata": {},
   "source": [
    "### Exercise 1: Basic geospatial plotting\n",
    "\n",
    "The code below produces a world map where countries are coloured based on their GDP per capita.\n",
    "\n",
    "This solution uses the `plot` method of `geopandas` to create a map of the world, with countries coloured based on their GDP per capita. The `column` parameter specifies which data column to use for colouring, and `legend=True` adds a legend to the plot."
   ]
  },
  {
   "cell_type": "code",
   "execution_count": null,
   "id": "ad52ad95",
   "metadata": {},
   "outputs": [],
   "source": [
    "import geopandas as gpd\n",
    "import matplotlib.pyplot as plt\n",
    "\n",
    "# Load example geospatial dataset\n",
    "world = gpd.read_file('/vsicurl/https://github.com/Explore-AI/Public-Data/raw/master/naturalearth_lowres/ne_110m_admin_0_countries.shp')\n",
    "\n",
    "# Plot the world map, colouring the countries based on their GDP per capita.\n",
    "world.plot(column='GDP_MD', legend=True)\n",
    "plt.title(\"World Map Coloured by GDP per Capita\")\n",
    "plt.show()"
   ]
  },
  {
   "cell_type": "markdown",
   "id": "1fbdb88a",
   "metadata": {},
   "source": [
    "**Explanation of the output**:\n",
    "\n",
    "- The world map is coloured based on GDP per capita, with a colour scale ranging from purple (lower GDP) to yellow (higher GDP).\n",
    "- The legend on the right side of the plot shows the range of GDP values.\n",
    "- Countries with higher GDP per capita, like the United States and China, are shown in lighter colours, while countries with lower GDP per capita are shown in darker colours."
   ]
  },
  {
   "cell_type": "markdown",
   "id": "a10363b6",
   "metadata": {},
   "source": [
    "### Exercise 2: Adjusting size and colour in geospatial plots\n",
    "\n",
    "In this solution, the `plot` method is used to create a map where the `markersize` parameter is adjusted based on the population of each country, scaled down by a factor to ensure the markers are an appropriate size. The `column` parameter is used to colour the countries by their GDP per capita, and a legend is included for clarity.\n"
   ]
  },
  {
   "cell_type": "code",
   "execution_count": null,
   "id": "578f8f7c",
   "metadata": {},
   "outputs": [],
   "source": [
    "import geopandas as gpd\n",
    "import matplotlib.pyplot as plt\n",
    "\n",
    "# Load example geospatial dataset\n",
    "world = gpd.read_file('/vsicurl/https://github.com/Explore-AI/Public-Data/raw/master/naturalearth_lowres/ne_110m_admin_0_countries.shp')\n",
    "world.columns.tolist()"
   ]
  },
  {
   "cell_type": "code",
   "execution_count": null,
   "id": "09386d51",
   "metadata": {},
   "outputs": [],
   "source": [
    "import geopandas as gpd\n",
    "import matplotlib.pyplot as plt\n",
    "\n",
    "# Load example geospatial dataset\n",
    "world = gpd.read_file('/vsicurl/https://github.com/Explore-AI/Public-Data/raw/master/naturalearth_lowres/ne_110m_admin_0_countries.shp')\n",
    "# Reproject geometries to a projected CRS\n",
    "world = world.to_crs('EPSG:3786')\n",
    "\n",
    "# Calculate the centre of each country for the scatter plot\n",
    "world['centroid'] = world.geometry.centroid\n",
    "world['centroid_lon'] = world.centroid.x\n",
    "world['centroid_lat'] = world.centroid.y\n",
    "\n",
    "# Create the plot\n",
    "fig, ax = plt.subplots(1, 1, figsize=(15, 10))\n",
    "\n",
    "# Plot the world map colouring countries by GDP per capita\n",
    "world.plot(column='GDP_MD', ax=ax, legend=True, cmap='viridis')\n",
    "\n",
    "# Overlay a scatter plot where the size of each point is proportional to the population\n",
    "plt.scatter(\n",
    "    world['centroid_lon'], \n",
    "    world['centroid_lat'], \n",
    "    s=world['POP_EST'] / 1e6,  # Size of markers\n",
    "    color='red', \n",
    "    alpha=0.5\n",
    ")\n",
    "\n",
    "plt.title(\"World Map: Size by Population and Colour by GDP per Capita\")\n",
    "plt.show()\n"
   ]
  },
  {
   "cell_type": "markdown",
   "id": "ff325262",
   "metadata": {},
   "source": [
    "**Explanation of output**:\n",
    "\n",
    "- The countries are coloured based on their GDP per capita, with a colour scale ranging from purple (lower GDP) to yellow (higher GDP). The legend on the right side of the plot shows the range of GDP values.\n",
    "- The size of each country on the map is determined by its population. Countries with larger populations have larger markers, while countries with smaller populations have smaller markers."
   ]
  },
  {
   "cell_type": "markdown",
   "id": "1e54bad7",
   "metadata": {},
   "source": [
    "### Exercise 3: Geospatial clustering analysis\n",
    "\n",
    "This solution involves using the `KMeans` algorithm from `sklearn.cluster` to perform clustering on countries based on their GDP and population. The `fit` method is used to compute the clusters, which are then added as a new column to the `world` geodataframe. The clusters are visualised on the map using the `plot` method, with different colours representing different clusters."
   ]
  },
  {
   "cell_type": "code",
   "execution_count": null,
   "id": "33d90027",
   "metadata": {},
   "outputs": [],
   "source": [
    "import geopandas as gpd\n",
    "import matplotlib.pyplot as plt\n",
    "from sklearn.cluster import KMeans\n",
    "\n",
    "# Load example geospatial dataset\n",
    "world = gpd.read_file('/vsicurl/https://github.com/Explore-AI/Public-Data/raw/master/naturalearth_lowres/ne_110m_admin_0_countries.shp')\n",
    "\n",
    "# Prepare data for clustering\n",
    "data = world[['GDP_MD', 'POP_EST']].dropna()\n",
    "kmeans = KMeans(n_clusters=5, random_state=0, n_init=10).fit(data)\n",
    "\n",
    "# Add cluster labels to the geodataframe\n",
    "world['cluster'] = kmeans.labels_\n",
    "\n",
    "# Perform K-means clustering and plot the clusters\n",
    "world.plot(column='cluster', legend=True, cmap='viridis')\n",
    "plt.title(\"World Map: K-means Clustering by GDP and Population\")\n",
    "plt.show()"
   ]
  },
  {
   "cell_type": "markdown",
   "id": "5637d6f2",
   "metadata": {},
   "source": [
    "This visualisation helps in understanding how countries are grouped based on their economic (GDP) and demographic (population) characteristics. The clusters reveal patterns and similarities among countries that may not be immediately apparent from the raw data."
   ]
  },
  {
   "cell_type": "markdown",
   "id": "5e2e0392",
   "metadata": {},
   "source": [
    "### Exercise 4: Advanced multidimensional geospatial plot\n",
    "\n",
    "This solution creates a complex plot where countries are represented with different marker shapes based on their continent, sized by population, and coloured by GDP per capita. The unique continents are extracted, and each subset of countries belonging to a continent is plotted separately with a different marker. The legend helps in identifying the continents."
   ]
  },
  {
   "cell_type": "code",
   "execution_count": null,
   "id": "eb62f66e",
   "metadata": {},
   "outputs": [],
   "source": [
    "import geopandas as gpd\n",
    "import matplotlib.pyplot as plt\n",
    "\n",
    "# Load example geospatial dataset\n",
    "world = gpd.read_file('/vsicurl/https://github.com/Explore-AI/Public-Data/raw/master/naturalearth_lowres/ne_110m_admin_0_countries.shp')\n",
    "\n",
    "# Reproject geometries to a projected CRS\n",
    "world = world.to_crs('EPSG:3786')\n",
    "\n",
    "# Calculate the centre of each country for the scatter plot\n",
    "world['centroid'] = world.geometry.centroid\n",
    "world['centroid_lon'] = world.centroid.x\n",
    "world['centroid_lat'] = world.centroid.y\n",
    "\n",
    "# Marker shapes for continents\n",
    "marker_shapes = {'Africa': 'o', 'Asia': 's', 'Europe': '^', 'North America': 'D', 'Oceania': '*', 'South America': 'P'}\n",
    "\n",
    "# Create the plot\n",
    "fig, ax = plt.subplots(1, 1, figsize=(15, 10))\n",
    "\n",
    "# Plot the world map colouring countries by GDP per capita\n",
    "world.plot(column='GDP_MD', ax=ax, legend=True, cmap='viridis')\n",
    "\n",
    "# Overlay a scatter plot where the size of each point is proportional to the population and marker shapes for continents\n",
    "for continent, marker in marker_shapes.items():\n",
    "    subset = world[world['CONTINENT'] == continent]\n",
    "    plt.scatter(\n",
    "        subset['centroid_lon'],\n",
    "        subset['centroid_lat'],\n",
    "        s=subset['POP_EST'] / 1e6,\n",
    "        marker=marker,\n",
    "        label=continent,\n",
    "        alpha=0.6,\n",
    "        edgecolors='k'\n",
    "    )\n",
    "\n",
    "plt.legend(title=\"Continents\")\n",
    "plt.title(\"World Map: Size by Population, Colour by GDP per Capita, and Different Markers for Continents\")\n",
    "plt.show()\n"
   ]
  },
  {
   "cell_type": "markdown",
   "id": "e9956efe",
   "metadata": {
    "tags": []
   },
   "source": [
    "**Explanation of output**: \n",
    "\n",
    "- **Size**: The size of each marker represents the population of the country. Larger markers correspond to countries with larger populations.\n",
    "- **Marker Shapes**: Different marker shapes are used to represent different continents. This allows for easy identification of countries belonging to specific continents:\n",
    "    - Circles: Africa\n",
    "    - Squares: Asia\n",
    "    - Triangles: Europe\n",
    "    - Diamonds: North America\n",
    "    - Stars: Oceania\n",
    "    - Plus signs: South America"
   ]
  },
  {
   "cell_type": "markdown",
   "id": "26fd094b-0fee-46f1-a4b8-73766813c42b",
   "metadata": {
    "tags": []
   },
   "source": [
    "#  \n",
    "\n",
    "<div align=\"center\" style=\" font-size: 80%; text-align: center; margin: 0 auto\">\n",
    "<img src=\"https://raw.githubusercontent.com/Explore-AI/Pictures/master/ExploreAI_logos/EAI_Blue_Dark.png\"  style=\"width:200px\";/>\n",
    "</div>"
   ]
  }
 ],
 "metadata": {
  "kernelspec": {
   "display_name": "Python 3 (ipykernel)",
   "language": "python",
   "name": "python3"
  },
  "language_info": {
   "codemirror_mode": {
    "name": "ipython",
    "version": 3
   },
   "file_extension": ".py",
   "mimetype": "text/x-python",
   "name": "python",
   "nbconvert_exporter": "python",
   "pygments_lexer": "ipython3",
   "version": "3.11.5"
  }
 },
 "nbformat": 4,
 "nbformat_minor": 5
}
